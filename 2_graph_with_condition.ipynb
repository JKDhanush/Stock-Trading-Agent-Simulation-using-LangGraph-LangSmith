{
 "cells": [
  {
   "cell_type": "code",
   "id": "initial_id",
   "metadata": {
    "collapsed": true,
    "ExecuteTime": {
     "end_time": "2025-07-17T06:54:07.331092Z",
     "start_time": "2025-07-17T06:54:07.302687Z"
    }
   },
   "source": [
    "from typing import TypedDict, Literal\n",
    "\n",
    "class PortfolioState(TypedDict):\n",
    "    amount_usd : float\n",
    "    total_usd : float\n",
    "    target_currency : Literal[\"INR\", \"EUR\"]\n",
    "    total : float\n"
   ],
   "outputs": [],
   "execution_count": 1
  },
  {
   "metadata": {
    "ExecuteTime": {
     "end_time": "2025-07-17T06:58:36.824144Z",
     "start_time": "2025-07-17T06:58:36.772593Z"
    }
   },
   "cell_type": "code",
   "source": [
    "def calc_total(state: PortfolioState) -> PortfolioState:\n",
    "    state[\"total_usd\"] = state[\"amount_usd\"] *1.08\n",
    "    return state\n",
    "\n",
    "def convert_to_inr(state: PortfolioState) -> PortfolioState:\n",
    "    state[\"total\"] = state[\"total_usd\"] *85\n",
    "    return state\n",
    "\n",
    "def convert_to_eur(state: PortfolioState) -> PortfolioState:\n",
    "    state[\"total\"] = state[\"total_usd\"] *0.9\n",
    "    return state\n",
    "\n",
    "def choose_conversion(state: PortfolioState) -> str:\n",
    "    return state[\"target_currency\"]\n"
   ],
   "id": "b659dcfd66e42077",
   "outputs": [],
   "execution_count": 3
  },
  {
   "metadata": {
    "ExecuteTime": {
     "end_time": "2025-07-17T07:01:32.846010Z",
     "start_time": "2025-07-17T07:01:30.920350Z"
    }
   },
   "cell_type": "code",
   "source": [
    "from langgraph.graph import StateGraph, START, END\n",
    "\n",
    "builder = StateGraph(PortfolioState)\n",
    "\n",
    "builder.add_node(\"calculate_total_node\", calc_total)\n",
    "builder.add_node(\"convert_to_inr_node\", convert_to_inr)\n",
    "builder.add_node(\"convert_to_eur_node\", convert_to_eur)\n",
    "\n",
    "\n",
    "# should add edges\n",
    "builder.add_edge(START, \"calculate_total_node\")\n",
    "builder.add_conditional_edges(\n",
    "    \"calculate_total_node\",\n",
    "    choose_conversion,\n",
    "    {\n",
    "        \"INR\": \"convert_to_inr_node\",\n",
    "        \"EUR\": \"convert_to_eur_node\",\n",
    "    }\n",
    "\n",
    ")\n",
    "builder.add_edge([\"convert_to_inr_node\", \"convert_to_eur_node\"], END)\n",
    "graph = builder.compile()"
   ],
   "id": "d8cc1033c8bea663",
   "outputs": [],
   "execution_count": 4
  },
  {
   "metadata": {
    "ExecuteTime": {
     "end_time": "2025-07-17T07:01:38.477748Z",
     "start_time": "2025-07-17T07:01:37.272415Z"
    }
   },
   "cell_type": "code",
   "source": [
    "from IPython.display import Image, display\n",
    "\n",
    "display(Image(graph.get_graph().draw_mermaid_png()))"
   ],
   "id": "f80d4b49ca341fb7",
   "outputs": [
    {
     "data": {
      "image/png": "[encoded data removed]",
      "text/plain": [
       "<IPython.core.display.Image object>"
      ]
     },
     "metadata": {},
     "output_type": "display_data"
    }
   ],
   "execution_count": 5
  },
  {
   "metadata": {
    "ExecuteTime": {
     "end_time": "2025-07-17T07:03:14.029349Z",
     "start_time": "2025-07-17T07:03:13.988352Z"
    }
   },
   "cell_type": "code",
   "source": "graph.invoke({\"amount_usd\":1000, \"target_currency\":\"INR\"})",
   "id": "7f02d145b1219880",
   "outputs": [
    {
     "data": {
      "text/plain": [
       "{'amount_usd': 1000,\n",
       " 'total_usd': 1080.0,\n",
       " 'target_currency': 'INR',\n",
       " 'total': 91800.0}"
      ]
     },
     "execution_count": 6,
     "metadata": {},
     "output_type": "execute_result"
    }
   ],
   "execution_count": 6
  },
  {
   "metadata": {
    "ExecuteTime": {
     "end_time": "2025-07-17T07:03:25.924092Z",
     "start_time": "2025-07-17T07:03:25.908083Z"
    }
   },
   "cell_type": "code",
   "source": "graph.invoke({\"amount_usd\":1000, \"target_currency\":\"EUR\"})",
   "id": "b7a8dc1d2a77e1da",
   "outputs": [
    {
     "data": {
      "text/plain": [
       "{'amount_usd': 1000,\n",
       " 'total_usd': 1080.0,\n",
       " 'target_currency': 'EUR',\n",
       " 'total': 972.0}"
      ]
     },
     "execution_count": 7,
     "metadata": {},
     "output_type": "execute_result"
    }
   ],
   "execution_count": 7
  },
  {
   "metadata": {},
   "cell_type": "code",
   "outputs": [],
   "execution_count": null,
   "source": "",
   "id": "54d7e905fa80fb8d"
  }
 ],
 "metadata": {
  "kernelspec": {
   "display_name": "Python 3",
   "language": "python",
   "name": "python3"
  },
  "language_info": {
   "codemirror_mode": {
    "name": "ipython",
    "version": 2
   },
   "file_extension": ".py",
   "mimetype": "text/x-python",
   "name": "python",
   "nbconvert_exporter": "python",
   "pygments_lexer": "ipython2",
   "version": "2.7.6"
  }
 },
 "nbformat": 4,
 "nbformat_minor": 5
}
