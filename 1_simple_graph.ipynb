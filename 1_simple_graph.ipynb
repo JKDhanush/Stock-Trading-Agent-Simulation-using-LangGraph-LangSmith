{
 "cells": [
  {
   "cell_type": "code",
   "id": "initial_id",
   "metadata": {
    "collapsed": true,
    "ExecuteTime": {
     "end_time": "2025-07-17T06:49:34.840755Z",
     "start_time": "2025-07-17T06:49:34.830174Z"
    }
   },
   "source": [
    "from typing import TypedDict\n",
    "\n",
    "class PortfolioState(TypedDict):\n",
    "    amount_usd : float\n",
    "    total_usd : float\n",
    "    total_inr : float\n"
   ],
   "outputs": [],
   "execution_count": 2
  },
  {
   "metadata": {
    "ExecuteTime": {
     "end_time": "2025-07-17T06:49:34.903393Z",
     "start_time": "2025-07-17T06:49:34.891443Z"
    }
   },
   "cell_type": "code",
   "source": [
    "def calc_total(state: PortfolioState) -> PortfolioState:\n",
    "    state[\"total_usd\"] = state[\"amount_usd\"] *1.08\n",
    "    return state\n",
    "\n",
    "def convert_to_inr(state: PortfolioState) -> PortfolioState:\n",
    "    state[\"total_inr\"] = state[\"total_usd\"] *85\n",
    "    return state"
   ],
   "id": "599333adedbe3b7d",
   "outputs": [],
   "execution_count": 3
  },
  {
   "metadata": {
    "ExecuteTime": {
     "end_time": "2025-07-17T06:50:42.075135Z",
     "start_time": "2025-07-17T06:50:42.046488Z"
    }
   },
   "cell_type": "code",
   "source": [
    "from langgraph.graph import StateGraph, START, END\n",
    "\n",
    "builder = StateGraph(PortfolioState)\n",
    "\n",
    "builder.add_node(\"calculate_total_node\", calc_total)\n",
    "builder.add_node(\"convert_to_inr_node\", convert_to_inr)\n",
    "\n",
    "# should add edges\n",
    "builder.add_edge(START, \"calculate_total_node\")\n",
    "builder.add_edge(\"calculate_total_node\", \"convert_to_inr_node\")\n",
    "builder.add_edge(\"convert_to_inr_node\", END)\n",
    "\n",
    "graph = builder.compile()"
   ],
   "id": "71f92aebc5c24b49",
   "outputs": [],
   "execution_count": 5
  },
  {
   "metadata": {
    "ExecuteTime": {
     "end_time": "2025-07-17T06:50:46.285766Z",
     "start_time": "2025-07-17T06:50:45.311312Z"
    }
   },
   "cell_type": "code",
   "source": [
    "from IPython.display import Image, display\n",
    "\n",
    "display(Image(graph.get_graph().draw_mermaid_png()))"
   ],
   "id": "87cac1639cd86c3",
   "outputs": [
    {
     "data": {
      "image/png": "[encoded data removed]",
      "text/plain": [
       "<IPython.core.display.Image object>"
      ]
     },
     "metadata": {},
     "output_type": "display_data"
    }
   ],
   "execution_count": 6
  },
  {
   "metadata": {
    "ExecuteTime": {
     "end_time": "2025-07-17T06:51:27.392060Z",
     "start_time": "2025-07-17T06:51:27.184468Z"
    }
   },
   "cell_type": "code",
   "source": "graph.invoke({'amount_usd':1000})",
   "id": "67f482477d615c5f",
   "outputs": [
    {
     "data": {
      "text/plain": [
       "{'amount_usd': 1000, 'total_usd': 1080.0, 'total_inr': 91800.0}"
      ]
     },
     "execution_count": 7,
     "metadata": {},
     "output_type": "execute_result"
    }
   ],
   "execution_count": 7
  },
  {
   "metadata": {},
   "cell_type": "code",
   "outputs": [],
   "execution_count": null,
   "source": "",
   "id": "91ce8535ee4c4632"
  }
 ],
 "metadata": {
  "kernelspec": {
   "display_name": "Python 3",
   "language": "python",
   "name": "python3"
  },
  "language_info": {
   "codemirror_mode": {
    "name": "ipython",
    "version": 2
   },
   "file_extension": ".py",
   "mimetype": "text/x-python",
   "name": "python",
   "nbconvert_exporter": "python",
   "pygments_lexer": "ipython2",
   "version": "2.7.6"
  }
 },
 "nbformat": 4,
 "nbformat_minor": 5
}
